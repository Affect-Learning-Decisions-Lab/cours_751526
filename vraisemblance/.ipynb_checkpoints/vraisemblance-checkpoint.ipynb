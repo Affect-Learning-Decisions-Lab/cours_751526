{
 "cells": [
  {
   "cell_type": "markdown",
   "id": "0181d8bf-5d3e-4237-b633-5360da1dc2df",
   "metadata": {},
   "source": [
    "# Vraisemblance"
   ]
  },
  {
   "cell_type": "markdown",
   "id": "ce0a980b-3b00-488f-9125-1a210718a265",
   "metadata": {},
   "source": [
    "## Quelques aspects techniques avant de commencer\n",
    "\n",
    "Il est très important de faire tourner la section ci-dessous, même si d'un point de vue pratique elle ne fait que préparer les instruments dont nous allons nous servir plus tard dans le document.\n"
   ]
  },
  {
   "cell_type": "markdown",
   "id": "7e7c976b-269f-4b34-87d9-95c572bc10b3",
   "metadata": {},
   "source": [
    "### Exemple avec la binomiale"
   ]
  },
  {
   "cell_type": "code",
   "execution_count": null,
   "id": "3c9c07ca-5024-427c-8590-ff1f8d6f9d0a",
   "metadata": {},
   "outputs": [],
   "source": []
  }
 ],
 "metadata": {
  "kernelspec": {
   "display_name": "R",
   "language": "R",
   "name": "ir"
  },
  "language_info": {
   "codemirror_mode": "r",
   "file_extension": ".r",
   "mimetype": "text/x-r-source",
   "name": "R",
   "pygments_lexer": "r",
   "version": "4.2.0"
  }
 },
 "nbformat": 4,
 "nbformat_minor": 5
}
