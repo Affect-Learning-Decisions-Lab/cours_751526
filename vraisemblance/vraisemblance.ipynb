{
 "cells": [
  {
   "cell_type": "markdown",
   "id": "0181d8bf-5d3e-4237-b633-5360da1dc2df",
   "metadata": {},
   "source": [
    "# Vraisemblance"
   ]
  },
  {
   "cell_type": "markdown",
   "id": "ce0a980b-3b00-488f-9125-1a210718a265",
   "metadata": {},
   "source": [
    "## Quelques aspects techniques avant de commencer\n",
    "\n",
    "Il est très important de faire tourner la section ci-dessous, même si d'un point de vue pratique elle ne fait que préparer les instruments dont nous allons nous servir plus tard dans le document.\n"
   ]
  },
  {
   "cell_type": "code",
   "execution_count": 8,
   "id": "c22fa31f-79ca-4466-81b0-d83759d1a816",
   "metadata": {},
   "outputs": [],
   "source": [
    "# library utilisée pour faire le graphique\n",
    "# install.packages(\"ggplot2\") # installation, à faire une seule fois\n",
    "library(ggplot2) # chargement\n",
    "\n",
    "# couleur pour le graphique\n",
    "darkred  = \"#8B0000\"   \n"
   ]
  },
  {
   "cell_type": "markdown",
   "id": "7e7c976b-269f-4b34-87d9-95c572bc10b3",
   "metadata": {},
   "source": [
    "### Exemple avec la binomiale"
   ]
  },
  {
   "cell_type": "code",
   "execution_count": 10,
   "id": "3c9c07ca-5024-427c-8590-ff1f8d6f9d0a",
   "metadata": {},
   "outputs": [
    {
     "data": {
      "text/html": [
       "0.057395628"
      ],
      "text/latex": [
       "0.057395628"
      ],
      "text/markdown": [
       "0.057395628"
      ],
      "text/plain": [
       "[1] 0.05739563"
      ]
     },
     "metadata": {},
     "output_type": "display_data"
    }
   ],
   "source": [
    "dbinom(x=3, size = 10, prob =0.1)"
   ]
  },
  {
   "cell_type": "code",
   "execution_count": 12,
   "id": "39b7ef68-4b17-42e4-bc76-4dee00a2a7df",
   "metadata": {},
   "outputs": [
    {
     "data": {
      "text/html": [
       "0.266827932"
      ],
      "text/latex": [
       "0.266827932"
      ],
      "text/markdown": [
       "0.266827932"
      ],
      "text/plain": [
       "[1] 0.2668279"
      ]
     },
     "metadata": {},
     "output_type": "display_data"
    }
   ],
   "source": [
    "dbinom(x=3, size = 10, prob =0.3)"
   ]
  },
  {
   "cell_type": "code",
   "execution_count": 14,
   "id": "8d37ef93-a91b-4e85-aad1-2a02afc95c59",
   "metadata": {},
   "outputs": [
    {
     "data": {
      "text/html": [
       "8.74799999999999e-06"
      ],
      "text/latex": [
       "8.74799999999999e-06"
      ],
      "text/markdown": [
       "8.74799999999999e-06"
      ],
      "text/plain": [
       "[1] 8.748e-06"
      ]
     },
     "metadata": {},
     "output_type": "display_data"
    }
   ],
   "source": [
    "dbinom(x=3, size = 10, prob =0.9)"
   ]
  },
  {
   "cell_type": "code",
   "execution_count": null,
   "id": "baed0c04-8a93-409e-bb96-0cc7c10af199",
   "metadata": {},
   "outputs": [],
   "source": []
  }
 ],
 "metadata": {
  "kernelspec": {
   "display_name": "R",
   "language": "R",
   "name": "ir"
  },
  "language_info": {
   "codemirror_mode": "r",
   "file_extension": ".r",
   "mimetype": "text/x-r-source",
   "name": "R",
   "pygments_lexer": "r",
   "version": "4.2.0"
  }
 },
 "nbformat": 4,
 "nbformat_minor": 5
}
